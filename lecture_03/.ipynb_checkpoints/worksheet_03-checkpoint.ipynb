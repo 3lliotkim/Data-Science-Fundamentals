{
 "cells": [
  {
   "cell_type": "markdown",
   "metadata": {},
   "source": [
    "# Worksheet 03\n",
    "\n",
    "Name:  Elliot Kim  \n",
    "UID: U89017889  \n",
    "\n",
    "### Topics\n",
    "\n",
    "- Intro to DS\n",
    "\n",
    "### Linear Algebra Review\n",
    "\n",
    "If you need a linear algebra review, please read through the [following pdf](https://github.com/gallettilance/CS506-Spring2023/raw/main/worksheets/lecture_03_linear_algebra_review.pdf) before next class\n",
    "\n",
    "### Intro to Data Science\n",
    "\n",
    "a) what property must a hypothesis have?"
   ]
  },
  {
   "cell_type": "markdown",
   "metadata": {},
   "source": [
    "- A hypothesis must be testable"
   ]
  },
  {
   "cell_type": "markdown",
   "metadata": {},
   "source": [
    "b) what examples would you have wanted to try?"
   ]
  },
  {
   "cell_type": "markdown",
   "metadata": {},
   "source": [
    "- (3, 5, 7)  \n",
    "- (0, 4, 12)  "
   ]
  },
  {
   "cell_type": "markdown",
   "metadata": {},
   "source": [
    "c) Poll 1"
   ]
  },
  {
   "cell_type": "markdown",
   "metadata": {},
   "source": [
    "- C: 1, 2, 3"
   ]
  },
  {
   "cell_type": "markdown",
   "metadata": {},
   "source": [
    "d) Given the hypothesis (x, 2x, 3x), for each of the following, determine whether they are positive or negative examples:\n",
    "\n",
    "- (2, 4, 6) Positive\n",
    "- (6, 8 , 10) Positive\n",
    "- (1, 3, 5) Negative"
   ]
  },
  {
   "cell_type": "markdown",
   "metadata": {},
   "source": []
  },
  {
   "cell_type": "markdown",
   "metadata": {},
   "source": [
    "e) Poll 2"
   ]
  },
  {
   "cell_type": "markdown",
   "metadata": {},
   "source": [
    "- C: 1, 2, 3"
   ]
  },
  {
   "cell_type": "markdown",
   "metadata": {},
   "source": [
    "f) Describe steps of a Data Science Workflow"
   ]
  },
  {
   "cell_type": "markdown",
   "metadata": {},
   "source": [
    "- First ask what and who the model is used / intended for\n",
    "    - Is it just the general trend that is important of the exact predictions that are important?\n",
    "    - Is this a problem that needs predictive tools to solve\n",
    "    \n",
    "- Process Data: \n",
    "    - What data should & shouldn't be used for the tastk?\n",
    "    - What to do w/ missing data?\n",
    "    - What to do w/ inconsistent data?\n",
    "    - What assumptions are you making w/ the transformations of the data?\n",
    "- Explore Data\n",
    "    - Describe, contextualize, & visualize the data\n",
    "    - What might be related to what you're trying to predict?\n",
    "    - Are there imbalances in the data?\n",
    "- Extract Features\n",
    "    - Are the features provided by the dataset the best features to use for the task?\n",
    "    - What other features can be extracted?\n",
    "    - Should existing features be transformed?\n",
    "- Create Model\n",
    "    - The success of this step depends entirely on the work done in previous steps remember: garbage in, garbage out! (it’s all about the data)\n",
    "    - Is your model easy to explain?\n",
    "    - When your model fails, can you explain why?"
   ]
  },
  {
   "cell_type": "markdown",
   "metadata": {},
   "source": [
    "g) Give a real world example for each of the following data types:\n",
    "\n",
    "- record: (name, age, balance) -> (\"John\", 20, 100)\n",
    "- graph: Nodes connected by edges ∆ -> Adjacency List: 1: {2,3} 2: {1,3} 3: {1,2}\n",
    "- image: (•_•)\n",
    "- text: Corpus of Documents"
   ]
  },
  {
   "cell_type": "code",
   "execution_count": null,
   "metadata": {},
   "outputs": [],
   "source": []
  },
  {
   "cell_type": "markdown",
   "metadata": {},
   "source": []
  },
  {
   "cell_type": "markdown",
   "metadata": {},
   "source": [
    "h) Give a real world example of unsupervised learning"
   ]
  },
  {
   "cell_type": "markdown",
   "metadata": {},
   "source": [
    "- Find interesting structures in data\n",
    "- Recommender Systems \"Similar users might be recommended the same things, emails similar to those marked as spam could be spam etc.\""
   ]
  },
  {
   "cell_type": "markdown",
   "metadata": {},
   "source": [
    "i) Give a real world example of supervised learning"
   ]
  },
  {
   "cell_type": "markdown",
   "metadata": {},
   "source": [
    "- \"Cricket chirps / min\" given a certain \"temperature\""
   ]
  }
 ],
 "metadata": {
  "kernelspec": {
   "display_name": "Python 3 (ipykernel)",
   "language": "python",
   "name": "python3"
  },
  "language_info": {
   "codemirror_mode": {
    "name": "ipython",
    "version": 3
   },
   "file_extension": ".py",
   "mimetype": "text/x-python",
   "name": "python",
   "nbconvert_exporter": "python",
   "pygments_lexer": "ipython3",
   "version": "3.9.7"
  },
  "vscode": {
   "interpreter": {
    "hash": "e7370f93d1d0cde622a1f8e1c04877d8463912d04d973331ad4851f04de6915a"
   }
  }
 },
 "nbformat": 4,
 "nbformat_minor": 2
}
