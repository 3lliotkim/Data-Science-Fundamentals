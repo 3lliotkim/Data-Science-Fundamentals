{
 "cells": [
  {
   "cell_type": "markdown",
   "metadata": {},
   "source": [
    "# Worksheet 08\n",
    "\n",
    "Name:  Elliot Kim  \n",
    "UID: U89017889  \n",
    "\n",
    "### Topics\n",
    "\n",
    "- Soft Clustering\n",
    "- Clustering Aggregation\n",
    "\n",
    "### Probability Review\n",
    "\n",
    "Read through [the following](https://medium.com/@gallettilance/overview-of-probability-3272b72c82c8)\n",
    "\n",
    "### Soft Clustering\n",
    "\n",
    "We generate 10 data points that come from a normal distribution with mean 5 and variance 1."
   ]
  },
  {
   "cell_type": "code",
   "execution_count": 69,
   "metadata": {},
   "outputs": [
    {
     "name": "stdout",
     "output_type": "stream",
     "text": [
      "[5.166521068054676, 3.4456428167039994, 3.987349448719477, 4.834205741885054, 4.544103585999129, 4.711757459635817, 5.831487341580978, 3.625950622473118, 4.279662739156845, 5.351632564929103]\n"
     ]
    }
   ],
   "source": [
    "import random\n",
    "import numpy as np\n",
    "from sklearn.cluster import KMeans\n",
    "\n",
    "mean = 5\n",
    "stdev = 1\n",
    "\n",
    "c1 = np.random.normal(mean, stdev, 10).tolist()\n",
    "print(c1)"
   ]
  },
  {
   "cell_type": "markdown",
   "metadata": {},
   "source": [
    "a) Generate 10 more data points, this time coming from a normal distribution with mean 8 and variance 1."
   ]
  },
  {
   "cell_type": "code",
   "execution_count": 70,
   "metadata": {},
   "outputs": [
    {
     "name": "stdout",
     "output_type": "stream",
     "text": [
      "[7.354507312856569, 7.876500289744331, 7.176765188637488, 10.039036071896248, 8.533971213651046, 7.809018071250021, 7.744501101403647, 7.803252969189414, 9.107648533309014, 10.678220354656462]\n"
     ]
    }
   ],
   "source": [
    "c2 = np.random.normal(8, 1, 10).tolist()\n",
    "print(c2)"
   ]
  },
  {
   "cell_type": "markdown",
   "metadata": {},
   "source": [
    "b) Flip a fair coin 10 times. If the coin lands on H, then pick the last data point of `c1` and remove it from `c1`, if T then pick the last data point from `c2` and remove it from `c2`. Add these 10 points to a list called `data`."
   ]
  },
  {
   "cell_type": "code",
   "execution_count": 71,
   "metadata": {},
   "outputs": [
    {
     "name": "stdout",
     "output_type": "stream",
     "text": [
      "[10.678220354656462, 5.351632564929103, 4.279662739156845, 3.625950622473118, 5.831487341580978, 9.107648533309014, 7.803252969189414, 7.744501101403647, 4.711757459635817, 4.544103585999129]\n"
     ]
    }
   ],
   "source": [
    "data = []\n",
    "for i in range(10):\n",
    "    # flip coin\n",
    "    coin_output = random.choice([0, 1])\n",
    "    if coin_output == 0:\n",
    "        p1 = c1.pop()\n",
    "        data.append(p1)\n",
    "    else:\n",
    "        p2 = c2.pop()\n",
    "        data.append(p2)\n",
    "print(data)"
   ]
  },
  {
   "cell_type": "markdown",
   "metadata": {},
   "source": [
    "c) This `data` is a Gaussian Mixture Distribution with 2 mixture components. Over the next few questions we will walk through the GMM algorithm to see if we can uncover the parameters we used to generate this data. First, please list all these parameters of the GMM that created `data` and the values we know they have."
   ]
  },
  {
   "cell_type": "markdown",
   "metadata": {},
   "source": [
    "- Mean\n",
    "- Variance"
   ]
  },
  {
   "cell_type": "markdown",
   "metadata": {},
   "source": [
    "d) Let's assume there are two mixture components (note: we could plot the data and make the observation that there are two clusters). The EM algorithm asks us to start with a random `mean_j`, `variance_j`, `P(C_j)` for each component j. One method we could use to find sensible values for these is to apply K means with k=2 here.\n",
    "\n",
    "1. the centroids would be the estimates of the `mean_j`\n",
    "2. the intra-cluster variance could be the estimate of `variance_j`\n",
    "3. the proportion of points in each cluster could be the estimate of `P(C_j)`\n",
    "\n",
    "Go through this process and list the parameter estimates it gives. Are they close or far from the true values?"
   ]
  },
  {
   "cell_type": "code",
   "execution_count": 72,
   "metadata": {},
   "outputs": [
    {
     "name": "stdout",
     "output_type": "stream",
     "text": [
      "[5.351632564929103, 4.279662739156845, 3.625950622473118, 5.831487341580978, 4.711757459635817, 4.544103585999129]\n",
      "[10.678220354656462, 9.107648533309014, 7.803252969189414, 7.744501101403647]\n",
      "P(C_1) = 0.6,  P(C_2) = 0.4\n",
      "mean_1 = 4.7240990522958315,  mean_2 = 8.833405739639636\n",
      "var_1 = 0.5093519043131924,  var_2 = 18.317770979472844\n"
     ]
    }
   ],
   "source": [
    "kmeans = KMeans(2, init='k-means++').fit(X=np.array(data).reshape(-1, 1))\n",
    "\n",
    "c1 = [x[0] for x in filter(lambda x: x[1] == 0, zip(data, kmeans.labels_))]\n",
    "print(c1)\n",
    "c2 = [x[0] for x in filter(lambda x: x[1] == 1, zip(data, kmeans.labels_))]\n",
    "print(c2)\n",
    "\n",
    "prob_c = [ len(c1) / (len(c1) + len(c2)) , len(c2) / (len(c1) + len(c2)) ]\n",
    "mean = [ sum(c1)/len(c1) , sum(c2)/len(c2) ]\n",
    "var = [ sum(map(lambda x : (x - mean[0])**2, c1)) / len(c1) , sum(map(lambda x : (x - mean[0])**2, c2)) / len(c2) ]\n",
    "\n",
    "print(\"P(C_1) = \" + str(prob_c[0]) + \",  P(C_2) = \" + str(prob_c[1]))\n",
    "print(\"mean_1 = \" + str(mean[0]) + \",  mean_2 = \" + str(mean[1]))\n",
    "print(\"var_1 = \" + str(var[0]) + \",  var_2 = \" + str(var[1]))"
   ]
  },
  {
   "cell_type": "markdown",
   "metadata": {},
   "source": [
    "- The values are close from the true values with the means reflecting the parameter estimates it gives."
   ]
  },
  {
   "cell_type": "markdown",
   "metadata": {},
   "source": [
    "e) For each data point, compute `P(C_j | X_i)`. Comment on which cluster you think each point belongs to based on the estimated probabilities. How does that compare to the truth?"
   ]
  },
  {
   "cell_type": "code",
   "execution_count": 73,
   "metadata": {},
   "outputs": [
    {
     "name": "stdout",
     "output_type": "stream",
     "text": [
      "point =  10.678220354656462\n",
      "probability of observing that point if it came from cluster 0 =  1.665002956121166e-30\n",
      "probability of observing that point if it came from cluster 1 =  0.021668804333917165\n",
      "point =  5.351632564929103\n",
      "probability of observing that point if it came from cluster 0 =  0.3666808820535698\n",
      "probability of observing that point if it came from cluster 1 =  0.02138908136818252\n",
      "point =  4.279662739156845\n",
      "probability of observing that point if it came from cluster 0 =  0.5352633609959587\n",
      "probability of observing that point if it came from cluster 1 =  0.021116291043749246\n",
      "point =  3.625950622473118\n",
      "probability of observing that point if it came from cluster 0 =  0.07665580298225014\n",
      "probability of observing that point if it came from cluster 1 =  0.020916457248710867\n",
      "point =  5.831487341580978\n",
      "probability of observing that point if it came from cluster 0 =  0.07370351762165271\n",
      "probability of observing that point if it came from cluster 1 =  0.021488474453436872\n",
      "point =  9.107648533309014\n",
      "probability of observing that point if it came from cluster 0 =  6.468047415012431e-17\n",
      "probability of observing that point if it came from cluster 1 =  0.02177653456263984\n",
      "point =  7.803252969189414\n",
      "probability of observing that point if it came from cluster 0 =  9.083750012702067e-09\n",
      "probability of observing that point if it came from cluster 1 =  0.021744562260875865\n",
      "point =  7.744501101403647\n",
      "probability of observing that point if it came from cluster 0 =  1.8122074342510328e-08\n",
      "probability of observing that point if it came from cluster 1 =  0.02174052859853975\n",
      "point =  4.711757459635817\n",
      "probability of observing that point if it came from cluster 0 =  0.7830051997375527\n",
      "probability of observing that point if it came from cluster 1 =  0.021234574485163134\n",
      "point =  4.544103585999129\n",
      "probability of observing that point if it came from cluster 0 =  0.7358260103956342\n",
      "probability of observing that point if it came from cluster 1 =  0.0211900015969289\n",
      "10.678220354656462\n",
      "Probability of coming from C_1 = 1.1525806388276449e-28\n",
      "Probability of coming from C_2 = 1.0\n",
      "\n",
      "5.351632564929103\n",
      "Probability of coming from C_1 = 0.9625679175568654\n",
      "Probability of coming from C_2 = 0.03743208244313458\n",
      "\n",
      "4.279662739156845\n",
      "Probability of coming from C_1 = 0.9743737856387024\n",
      "Probability of coming from C_2 = 0.02562621436129759\n",
      "\n",
      "3.625950622473118\n",
      "Probability of coming from C_1 = 0.8460895337896306\n",
      "Probability of coming from C_2 = 0.15391046621036944\n",
      "\n",
      "5.831487341580978\n",
      "Probability of coming from C_1 = 0.8372624655898889\n",
      "Probability of coming from C_2 = 0.16273753441011102\n",
      "\n",
      "9.107648533309014\n",
      "Probability of coming from C_1 = 4.455286994636707e-15\n",
      "Probability of coming from C_2 = 0.9999999999999957\n",
      "\n",
      "7.803252969189414\n",
      "Probability of coming from C_1 = 6.266217878966284e-07\n",
      "Probability of coming from C_2 = 0.999999373378212\n",
      "\n",
      "7.744501101403647\n",
      "Probability of coming from C_1 = 1.250341149820451e-06\n",
      "Probability of coming from C_2 = 0.9999987496588503\n",
      "\n",
      "4.711757459635817\n",
      "Probability of coming from C_1 = 0.9822415137698061\n",
      "Probability of coming from C_2 = 0.017758486230193906\n",
      "\n",
      "4.544103585999129\n",
      "Probability of coming from C_1 = 0.981163254504846\n",
      "Probability of coming from C_2 = 0.018836745495153986\n",
      "\n"
     ]
    }
   ],
   "source": [
    "from scipy.stats import norm\n",
    "\n",
    "prob_c0_x = [] # P(C_0 | X_i)\n",
    "prob_c1_x = [] # P(C_1 | X_i)\n",
    "prob_x = [] # P(X_i)\n",
    "\n",
    "k = 2\n",
    "\n",
    "for p in data:\n",
    "    print(\"point = \", p)\n",
    "    pdf_i = []\n",
    "\n",
    "    for j in range(k):\n",
    "        # P(X_i | C_j)\n",
    "        pdf_i.append(norm.pdf(p, mean[j], var[j]))\n",
    "        print(\"probability of observing that point if it came from cluster \" + str(j) + \" = \", pdf_i[j])\n",
    "        # P(C_j) already computed\n",
    "        prob_c[j]\n",
    "\n",
    "    # P(X_i) = P(C_0)P(X_i | C_0) + P(C_1)P(X_i | C_1)\n",
    "    prob_x = prob_c[0] * pdf_i[0] + prob_c[1] * pdf_i[1]\n",
    "\n",
    "    # P(C_j | X_i) = P(X_i | C_j)P(C_j) / P(X_i)\n",
    "    prob_c0_x.append( pdf_i[0] * prob_c[0] / prob_x )\n",
    "    prob_c1_x.append( pdf_i[1] * prob_c[1] / prob_x )\n",
    "\n",
    "probs = zip(data, prob_c0_x, prob_c1_x)\n",
    "for p in probs:\n",
    "    print(p[0])\n",
    "    print(\"Probability of coming from C_1 = \" + str(p[1]))\n",
    "    print(\"Probability of coming from C_2 = \" + str(p[2]))\n",
    "    print()\n"
   ]
  },
  {
   "cell_type": "markdown",
   "metadata": {},
   "source": [
    "f) Having computed `P(C_j | X_i)`, update the estimates of `mean_j`, `var_j`, and `P(C_j)`. How different are these values from the original ones you got from K means? briefly comment."
   ]
  },
  {
   "cell_type": "code",
   "execution_count": 74,
   "metadata": {},
   "outputs": [
    {
     "name": "stdout",
     "output_type": "stream",
     "text": [
      "P(C_1) = 0.5583700347812681,  P(C_2) = 0.44162996521873177\n",
      "mean_1 = 5.968406410593124,  mean_2 = 8.450501337388785\n",
      "var_1 = 2.057652706225978,  var_2 = 9.6395906842613\n"
     ]
    }
   ],
   "source": [
    "prob_c = [sum(prob_c0_x)/ len(prob_c0_x), sum(prob_c1_x)/ len(prob_c1_x) ]\n",
    "mean = [sum([x[0] * x[1] for x in zip(prob_c0_x, data)]) / sum(prob_c1_x), sum([x[0] * x[1] for x in zip(prob_c1_x, data)]) / sum(prob_c1_x) ]\n",
    "var = [ sum(map(lambda x : (x - mean[0])**2, c1)) / len(c1) , sum(map(lambda x : (x - mean[0])**2, c2)) / len(c2) ]\n",
    "\n",
    "print(\"P(C_1) = \" + str(prob_c[0]) + \",  P(C_2) = \" + str(prob_c[1]))\n",
    "print(\"mean_1 = \" + str(mean[0]) + \",  mean_2 = \" + str(mean[1]))\n",
    "print(\"var_1 = \" + str(var[0]) + \",  var_2 = \" + str(var[1]))"
   ]
  },
  {
   "cell_type": "markdown",
   "metadata": {},
   "source": [
    "- The means are similar to the original ones from K means but the vars are different."
   ]
  },
  {
   "cell_type": "markdown",
   "metadata": {},
   "source": [
    "g) Update `P(C_j | X_i)`. Comment on any differences or lack thereof you observe."
   ]
  },
  {
   "cell_type": "code",
   "execution_count": 75,
   "metadata": {},
   "outputs": [
    {
     "name": "stdout",
     "output_type": "stream",
     "text": [
      "point =  10.678220354656462\n",
      "probability of observing that point if it came from cluster 0 =  0.014120966614846225\n",
      "probability of observing that point if it came from cluster 1 =  0.04029527686888501\n",
      "point =  5.351632564929103\n",
      "probability of observing that point if it came from cluster 0 =  0.1853650167558937\n",
      "probability of observing that point if it came from cluster 1 =  0.039301615783215074\n",
      "point =  4.279662739156845\n",
      "probability of observing that point if it came from cluster 0 =  0.1384439325628491\n",
      "probability of observing that point if it came from cluster 1 =  0.03768766988561336\n",
      "point =  3.625950622473118\n",
      "probability of observing that point if it came from cluster 0 =  0.10141898948708267\n",
      "probability of observing that point if it came from cluster 1 =  0.03651383822084823\n",
      "point =  5.831487341580978\n",
      "probability of observing that point if it came from cluster 0 =  0.19345346593688026\n",
      "probability of observing that point if it came from cluster 1 =  0.0398861610567937\n",
      "point =  9.107648533309014\n",
      "probability of observing that point if it came from cluster 0 =  0.06054934039166953\n",
      "probability of observing that point if it came from cluster 1 =  0.041289755092459246\n",
      "point =  7.803252969189414\n",
      "probability of observing that point if it came from cluster 0 =  0.13027793355306044\n",
      "probability of observing that point if it came from cluster 1 =  0.04129262391239831\n",
      "point =  7.744501101403647\n",
      "probability of observing that point if it came from cluster 0 =  0.1335830781582027\n",
      "probability of observing that point if it came from cluster 1 =  0.041274962246323536\n",
      "point =  4.711757459635817\n",
      "probability of observing that point if it came from cluster 0 =  0.16089655245268075\n",
      "probability of observing that point if it came from cluster 1 =  0.038387164080444534\n",
      "point =  4.544103585999129\n",
      "probability of observing that point if it came from cluster 0 =  0.1525789136315197\n",
      "probability of observing that point if it came from cluster 1 =  0.03812332373977016\n",
      "10.678220354656462\n",
      "Probability of coming from C_1 = 0.3070336612893103\n",
      "Probability of coming from C_2 = 0.6929663387106897\n",
      "\n",
      "5.351632564929103\n",
      "Probability of coming from C_1 = 0.8563883105899192\n",
      "Probability of coming from C_2 = 0.14361168941008093\n",
      "\n",
      "4.279662739156845\n",
      "Probability of coming from C_1 = 0.8228361353523271\n",
      "Probability of coming from C_2 = 0.17716386464767292\n",
      "\n",
      "3.625950622473118\n",
      "Probability of coming from C_1 = 0.7783572171696105\n",
      "Probability of coming from C_2 = 0.22164278283038952\n",
      "\n",
      "5.831487341580978\n",
      "Probability of coming from C_1 = 0.859791234248744\n",
      "Probability of coming from C_2 = 0.14020876575125593\n",
      "\n",
      "9.107648533309014\n",
      "Probability of coming from C_1 = 0.6496255559858501\n",
      "Probability of coming from C_2 = 0.3503744440141498\n",
      "\n",
      "7.803252969189414\n",
      "Probability of coming from C_1 = 0.7995582603084648\n",
      "Probability of coming from C_2 = 0.2004417396915352\n",
      "\n",
      "7.744501101403647\n",
      "Probability of coming from C_1 = 0.8036108612932578\n",
      "Probability of coming from C_2 = 0.19638913870674218\n",
      "\n",
      "4.711757459635817\n",
      "Probability of coming from C_1 = 0.8412539780533567\n",
      "Probability of coming from C_2 = 0.15874602194664322\n",
      "\n",
      "4.544103585999129\n",
      "Probability of coming from C_1 = 0.8349888330192872\n",
      "Probability of coming from C_2 = 0.16501116698071272\n",
      "\n"
     ]
    }
   ],
   "source": [
    "from scipy.stats import norm\n",
    "\n",
    "prob_c0_x = [] # P(C_0 | X_i)\n",
    "prob_c1_x = [] # P(C_1 | X_i)\n",
    "prob_x = [] # P(X_i)\n",
    "\n",
    "k = 2\n",
    "\n",
    "for p in data:\n",
    "    print(\"point = \", p)\n",
    "    pdf_i = []\n",
    "\n",
    "    for j in range(k):\n",
    "        # P(X_i | C_j)\n",
    "        pdf_i.append(norm.pdf(p, mean[j], var[j]))\n",
    "        print(\"probability of observing that point if it came from cluster \" + str(j) + \" = \", pdf_i[j])\n",
    "        # P(C_j) already computed\n",
    "        prob_c[j]\n",
    "\n",
    "    # P(X_i) = P(C_0)P(X_i | C_0) + P(C_1)P(X_i | C_1)\n",
    "    prob_x = prob_c[0] * pdf_i[0] + prob_c[1] * pdf_i[1]\n",
    "\n",
    "    # P(C_j | X_i) = P(X_i | C_j)P(C_j) / P(X_i)\n",
    "    prob_c0_x.append( pdf_i[0] * prob_c[0] / prob_x )\n",
    "    prob_c1_x.append( pdf_i[1] * prob_c[1] / prob_x )\n",
    "\n",
    "probs = zip(data, prob_c0_x, prob_c1_x)\n",
    "for p in probs:\n",
    "    print(p[0])\n",
    "    print(\"Probability of coming from C_1 = \" + str(p[1]))\n",
    "    print(\"Probability of coming from C_2 = \" + str(p[2]))\n",
    "    print()\n"
   ]
  },
  {
   "cell_type": "markdown",
   "metadata": {},
   "source": [
    "- The points and probabilities are close"
   ]
  },
  {
   "cell_type": "markdown",
   "metadata": {},
   "source": [
    "h) Use `P(C_j | X_i)` to create a hard assignment - label each point as belonging to a specific cluster (0 or 1)"
   ]
  },
  {
   "cell_type": "code",
   "execution_count": 80,
   "metadata": {},
   "outputs": [
    {
     "name": "stdout",
     "output_type": "stream",
     "text": [
      "10.678220354656462\n",
      "Hard Assignment of C_1 vs C_1: 0.6929663387106897\n",
      "\n",
      "5.351632564929103\n",
      "Hard Assignment of C_1 vs C_1: 0.8563883105899192\n",
      "\n",
      "4.279662739156845\n",
      "Hard Assignment of C_1 vs C_1: 0.8228361353523271\n",
      "\n",
      "3.625950622473118\n",
      "Hard Assignment of C_1 vs C_1: 0.7783572171696105\n",
      "\n",
      "5.831487341580978\n",
      "Hard Assignment of C_1 vs C_1: 0.859791234248744\n",
      "\n",
      "9.107648533309014\n",
      "Hard Assignment of C_1 vs C_1: 0.6496255559858501\n",
      "\n",
      "7.803252969189414\n",
      "Hard Assignment of C_1 vs C_1: 0.7995582603084648\n",
      "\n",
      "7.744501101403647\n",
      "Hard Assignment of C_1 vs C_1: 0.8036108612932578\n",
      "\n",
      "4.711757459635817\n",
      "Hard Assignment of C_1 vs C_1: 0.8412539780533567\n",
      "\n",
      "4.544103585999129\n",
      "Hard Assignment of C_1 vs C_1: 0.8349888330192872\n",
      "\n"
     ]
    }
   ],
   "source": [
    "from scipy.stats import norm\n",
    "\n",
    "prob_c0_x = [] # P(C_0 | X_i)\n",
    "prob_c1_x = [] # P(C_1 | X_i)\n",
    "prob_x = [] # P(X_i)\n",
    "\n",
    "k = 2\n",
    "\n",
    "for p in data:\n",
    "    #print(\"point = \", p)\n",
    "    pdf_i = []\n",
    "\n",
    "    for j in range(k):\n",
    "        # P(X_i | C_j)\n",
    "        pdf_i.append(norm.pdf(p, mean[j], var[j]))\n",
    "        #print(\"probability of observing that point if it came from cluster \" + str(j) + \" = \", pdf_i[j])\n",
    "        # P(C_j) already computed\n",
    "        prob_c[j]\n",
    "\n",
    "    # P(X_i) = P(C_0)P(X_i | C_0) + P(C_1)P(X_i | C_1)\n",
    "    prob_x = prob_c[0] * pdf_i[0] + prob_c[1] * pdf_i[1]\n",
    "\n",
    "    # P(C_j | X_i) = P(X_i | C_j)P(C_j) / P(X_i)\n",
    "    prob_c0_x.append( pdf_i[0] * prob_c[0] / prob_x )\n",
    "    prob_c1_x.append( pdf_i[1] * prob_c[1] / prob_x )\n",
    "\n",
    "probs = zip(data, prob_c0_x, prob_c1_x)\n",
    "hard_assign = []\n",
    "for p in probs:\n",
    "    hard_assign.append(max(p[1], p[2]))\n",
    "    print(p[0])\n",
    "    print(\"Hard Assignment of C_1 vs C_1: \" + str(max(p[1], p[2])))\n",
    "    #print(\"Probability of coming from C_1 = \" + str(p[1]))\n",
    "    #print(\"Probability of coming from C_2 = \" + str(p[2]))\n",
    "    print()\n",
    "final = zip(data, hard_assign)"
   ]
  },
  {
   "cell_type": "markdown",
   "metadata": {},
   "source": [
    "### Clustering Aggregation\n",
    "\n",
    "| Point | C | P |\n",
    "|-------|---|---|\n",
    "| A     | 0 | a |\n",
    "| B     | 0 | b |\n",
    "| C     | 2 | b |\n",
    "| D     | 1 | c |\n",
    "| E     | 1 | d |\n",
    "\n",
    "a) Fill in the following table where for each pair of points determine whether C and P agree or disagree on how to cluster that pair."
   ]
  },
  {
   "cell_type": "markdown",
   "metadata": {},
   "source": [
    "| Pair | Disagreement |\n",
    "|------|--------------|\n",
    "| A  B |      1       |\n",
    "| A  C |      0       |\n",
    "| A  D |      0       |\n",
    "| A  E |      0       |\n",
    "| B  C |      1       |\n",
    "| B  D |      0       |\n",
    "| B  E |      0       |\n",
    "| C  D |      0       |\n",
    "| C  E |      0       |\n",
    "| D  E |      1       |\n"
   ]
  },
  {
   "cell_type": "markdown",
   "metadata": {},
   "source": [
    "As datasets become very large, this process can become computationally challenging.\n",
    "\n",
    "b) Given N points, what is the formula for the number of unique pairs of points one can create?"
   ]
  },
  {
   "cell_type": "markdown",
   "metadata": {},
   "source": [
    "$n\\choose2$"
   ]
  },
  {
   "cell_type": "markdown",
   "metadata": {},
   "source": [
    "Assume that clustering C clusters all points in the same cluster and clustering P clusters points as such:\n",
    "\n",
    "| Point | P |\n",
    "|-------|---|\n",
    "| A     | 0 |\n",
    "| B     | 0 |\n",
    "| C     | 0 |\n",
    "| D     | 1 |\n",
    "| E     | 1 |\n",
    "| F     | 2 |\n",
    "| G     | 2 |\n",
    "| H     | 2 |\n",
    "| I     | 2 |\n",
    "\n",
    "c) What is the maximum number of disagreements there could be for a dataset of this size? (use the formula from b)?"
   ]
  },
  {
   "cell_type": "markdown",
   "metadata": {},
   "source": [
    "- The maximum number of disagreements there could be is 26"
   ]
  },
  {
   "cell_type": "markdown",
   "metadata": {},
   "source": [
    "d) If we look at cluster 0. There are (3 x 2) / 2 = 3 pairs that agree with C (since all points in C are in the same cluster). For each cluster, determine how many agreements there are. How many total agreements are there? How many disagreements does that mean there are between C and P?"
   ]
  },
  {
   "cell_type": "markdown",
   "metadata": {},
   "source": [
    "- Cluster 1 has 2 agreements and Cluster 2 has 4 agreements. \n",
    "- In total there would be 9 agreements.\n",
    "- Between C and P, there would be 6 disagreements from Points D to I."
   ]
  },
  {
   "cell_type": "markdown",
   "metadata": {},
   "source": [
    "e) Assuming that filtering the dataset by cluster number is a computationally easy operation, describe an algorithm inspired by the above process that can efficiently compute disagreement distances on large datasets."
   ]
  },
  {
   "cell_type": "markdown",
   "metadata": {},
   "source": [
    "- Assuming we are given a dataset that we can easily filter by cluster number, we can run a For loop for all clusters and for all points within compared to points in other clusters. Thus by allowing us to compare whether the current point in a cluster disagrees with other points in other clusters."
   ]
  }
 ],
 "metadata": {
  "interpreter": {
   "hash": "76ca05dc3ea24b2e3b98cdb7774adfbb40773424bf5109b477fd793f623715af"
  },
  "kernelspec": {
   "display_name": "Python 3 (ipykernel)",
   "language": "python",
   "name": "python3"
  },
  "language_info": {
   "codemirror_mode": {
    "name": "ipython",
    "version": 3
   },
   "file_extension": ".py",
   "mimetype": "text/x-python",
   "name": "python",
   "nbconvert_exporter": "python",
   "pygments_lexer": "ipython3",
   "version": "3.9.7"
  }
 },
 "nbformat": 4,
 "nbformat_minor": 2
}
